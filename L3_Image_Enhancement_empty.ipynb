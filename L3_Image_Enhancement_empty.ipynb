{
  "nbformat": 4,
  "nbformat_minor": 0,
  "metadata": {
    "kernelspec": {
      "display_name": "Python 3",
      "language": "python",
      "name": "python3"
    },
    "language_info": {
      "codemirror_mode": {
        "name": "ipython",
        "version": 3
      },
      "file_extension": ".py",
      "mimetype": "text/x-python",
      "name": "python",
      "nbconvert_exporter": "python",
      "pygments_lexer": "ipython3",
      "version": "3.7.2"
    },
    "colab": {
      "name": "L3_Image_Enhancement_empty.ipynb",
      "provenance": [],
      "collapsed_sections": [],
      "include_colab_link": true
    }
  },
  "cells": [
    {
      "cell_type": "markdown",
      "metadata": {
        "id": "view-in-github",
        "colab_type": "text"
      },
      "source": [
        "<a href=\"https://colab.research.google.com/github/ccurtis7/stunning-happiness/blob/documentation/L3_Image_Enhancement_empty.ipynb\" target=\"_parent\"><img src=\"https://colab.research.google.com/assets/colab-badge.svg\" alt=\"Open In Colab\"/></a>"
      ]
    },
    {
      "cell_type": "markdown",
      "metadata": {
        "id": "RexeG5oib6fT"
      },
      "source": [
        "We're going to talk about a potentially dangerous topic today: how to enhance your images. You've probably heard negative stories in science news about image enhancement (see [this](https://www.ncbi.nlm.nih.gov/pmc/articles/PMC4210356/) review, for instance). Image enhancement can serve an important role in science, though, as it can aid human interpretation of images (for example, improving contrast or removing noise). Others can be used for pre-processing steps for quantitative methods. Finally, (for less \"scientific\" purposes) they can be used to make an image more visually appealing for, say, a journal cover. For this reason, image enhancement is a subjective in nature.\n",
        "\n",
        "We will be talking about two different methods of image enhancement: spatial domain methods and frequency domain methods."
      ]
    },
    {
      "cell_type": "markdown",
      "metadata": {
        "id": "jPJbvnYWb6fi"
      },
      "source": [
        "## Contrast Enhancement\n",
        "\n",
        "The simplest case of image enhancement in the spatial domain is *contrast stretching* also known as a *mapping transformation*. In this case, the operation can be expressed as:\n",
        "\n",
        "$$s = T(r) $$\n",
        "\n",
        "where r and s are the grey level of f(x,y) and g(x,y), respectively where f(x,y) is the image before the transformation and g(x,y) is the image after transformation."
      ]
    },
    {
      "cell_type": "code",
      "metadata": {
        "id": "UAj1Ps39b6fk"
      },
      "source": [
        "import numpy as np\n",
        "import matplotlib.pyplot as plt\n",
        "from skimage import data\n",
        "from skimage.util import img_as_float"
      ],
      "execution_count": null,
      "outputs": []
    },
    {
      "cell_type": "code",
      "metadata": {
        "scrolled": true,
        "id": "kamE7SEEb6fl"
      },
      "source": [
        "x = np.linspace(0, 1, 500)\n",
        "y = x\n",
        "y2 = y > 0.5\n",
        "y3 = 1/(1+np.exp(-20*(x-0.5)))\n",
        "\n",
        "fig, ax = plt.subplots(figsize=(5,5))\n",
        "\n",
        "ax.plot(x, y)\n",
        "ax.plot(x, y2)\n",
        "ax.plot(x, y3)\n",
        "ax.set_xlabel('Input Pixel Value')\n",
        "ax.set_ylabel('Output Pixel Value')"
      ],
      "execution_count": null,
      "outputs": []
    },
    {
      "cell_type": "code",
      "metadata": {
        "id": "JObmBx86b6fo"
      },
      "source": [
        ""
      ],
      "execution_count": null,
      "outputs": []
    },
    {
      "cell_type": "code",
      "metadata": {
        "id": "UJPeaPrIb6fq"
      },
      "source": [
        ""
      ],
      "execution_count": null,
      "outputs": []
    },
    {
      "cell_type": "markdown",
      "metadata": {
        "id": "MdAuLHbTb6fr"
      },
      "source": [
        "Because enhancement at any point in an image depends only on the gray level at that point, techniques in this category are referred to as **point processing**.\n",
        "\n",
        "Other basic gray-level transformations include:\n",
        "\n",
        "1. **Image negative**\n",
        "\n",
        "$$s = L - 1 - r $$\n",
        "\n",
        "2. **Log transformation**\n",
        "\n",
        "$$s = c \\log{(1+r)} $$\n",
        "\n",
        "3. **Power-Law Transformation**\n",
        "\n",
        "$$s = cr^{\\gamma} $$\n",
        "\n",
        "4. **Piecewise-Linear Transformation**\n",
        "\n",
        "5. **Gray-level slicing**: Display a high-level for all gray levels of interest, and low-level for gray levels outside the range of interest. Makes a binary image. Alternately, preserve the tonalities of the background, and set gray levels of interest to 0 or 1.\n",
        "\n"
      ]
    },
    {
      "cell_type": "code",
      "metadata": {
        "id": "ln8llsFub6fs"
      },
      "source": [
        ""
      ],
      "execution_count": null,
      "outputs": []
    },
    {
      "cell_type": "code",
      "metadata": {
        "id": "TIMinIJXb6ft"
      },
      "source": [
        ""
      ],
      "execution_count": null,
      "outputs": []
    },
    {
      "cell_type": "markdown",
      "metadata": {
        "id": "LHEK5prhb6ft"
      },
      "source": [
        "1. Construct a piecewise-linear transformation function, and test it out on the cameraman image."
      ]
    },
    {
      "cell_type": "markdown",
      "metadata": {
        "id": "wxef6tJPb6fu"
      },
      "source": [
        "# Histogram Processing"
      ]
    },
    {
      "cell_type": "markdown",
      "metadata": {
        "id": "HvhV2ww1b6fu"
      },
      "source": [
        "The histogram of an image is used for several types of image enhancements. Let's take a look at the histogram of our cameraman image:"
      ]
    },
    {
      "cell_type": "code",
      "metadata": {
        "id": "H-QXJJ9rb6fv"
      },
      "source": [
        ""
      ],
      "execution_count": null,
      "outputs": []
    },
    {
      "cell_type": "code",
      "metadata": {
        "id": "elfHNE7Bb6fv"
      },
      "source": [
        ""
      ],
      "execution_count": null,
      "outputs": []
    },
    {
      "cell_type": "markdown",
      "metadata": {
        "id": "EZApzcV1b6fv"
      },
      "source": [
        "Consider the function $s = T(r)$ that satisfies the following:\n",
        "\n",
        "1. T(r) is *single-valued* and *monotonically increasing*\n",
        "2. $0 \\le T(r) \\le 1$ for $0 \\le r \\le 1$\n",
        "\n",
        "The requirement that T(r) be single-valued is necessary to guarantee that the inverse transformation will exist. If the function isn't monotonically increasing, you will get some inverted gray levels.\n",
        "\n",
        "We are going to treat the histogram of the image as a probability distribution function. If we normalize the plot to the total number of pixels, this works out, so that the area under the curve is 1. We will define our transform in terms of the probability distribution:\n",
        "\n",
        "$$s = T(r) = \\int_0^r{p_r(w)dw} $$\n",
        "\n",
        "The discrete form can be expressed:\n",
        "\n",
        "$$s_k = T(r_k) = \\sum_{j=0}^{k}{p_r(r_j)} = \\sum_{j=0}^k{\\frac{n_j}{n}} $$\n",
        "\n",
        "This will create a probability distribution that approximates a uniform probability density function. This has the effect of \"spreading\" the histogram out more, hence the name **histogram equalization**. We will use the `skimage` function `equalize_hist` from the `exposure` module. This has the advantage of of having gray levels that span the entire gray scale. "
      ]
    },
    {
      "cell_type": "code",
      "metadata": {
        "id": "gey28yaRb6fw"
      },
      "source": [
        ""
      ],
      "execution_count": null,
      "outputs": []
    },
    {
      "cell_type": "code",
      "metadata": {
        "id": "w9xQjLXOb6fw"
      },
      "source": [
        ""
      ],
      "execution_count": null,
      "outputs": []
    },
    {
      "cell_type": "code",
      "metadata": {
        "id": "kmWDjZNGb6fw"
      },
      "source": [
        ""
      ],
      "execution_count": null,
      "outputs": []
    },
    {
      "cell_type": "code",
      "metadata": {
        "id": "txYG0TXNb6fw"
      },
      "source": [
        ""
      ],
      "execution_count": null,
      "outputs": []
    },
    {
      "cell_type": "markdown",
      "metadata": {
        "id": "vHgd6nnlb6fx"
      },
      "source": [
        "With histogram equalization, the shape of the output histogram was automatically determined. But sometimes, this isn't useful. Other times, we may want to force a specific histogram shape on our image. This is called **histogram matching** or **histogram specification**.\n",
        "\n",
        "To perform this kind of transformation, we are going to have to use two different probability distributions:\n",
        "\n",
        "$$s = T(r) =  \\int_0^r{p_r(w)dw}$$\n",
        "\n",
        "And we will also define s in terms of the probability distribution that we are seeking to obtain:\n",
        "\n",
        "$$s = G(z) = \\int_0^r{p_z(t)dt} $$\n",
        "\n",
        "Obtaining an image with the desired density function can then be found using the following steps:\n",
        "\n",
        "1. Obtain the transformation function T(r) using the method shown above.\n",
        "2. Obtain the function G(z) from the histogram of interest\n",
        "3. Obtain the inverse transform $G^{-1}$\n",
        "4. Obtain the output image by using the function\n",
        "\n",
        "$$z = G^{-1}(s) = G^{-1}[T(r)] $$\n",
        "\n",
        "Let's try it using two different images:"
      ]
    },
    {
      "cell_type": "code",
      "metadata": {
        "id": "EmGw3PTFb6fx"
      },
      "source": [
        ""
      ],
      "execution_count": null,
      "outputs": []
    },
    {
      "cell_type": "code",
      "metadata": {
        "id": "eTHDVXkBb6fx"
      },
      "source": [
        ""
      ],
      "execution_count": null,
      "outputs": []
    },
    {
      "cell_type": "markdown",
      "metadata": {
        "id": "ra4Zxp8Ub6fx"
      },
      "source": [
        "You can do the same thing with colored images:"
      ]
    },
    {
      "cell_type": "code",
      "metadata": {
        "id": "PpWseLjbb6fy"
      },
      "source": [
        ""
      ],
      "execution_count": null,
      "outputs": []
    },
    {
      "cell_type": "markdown",
      "metadata": {
        "id": "E4i3DNPvb6fy"
      },
      "source": [
        "# Local enhancement\n",
        "\n",
        "The methods discussed so far are *global* enhancement techniques, meaning pixels are modified by a transformation function that applies to the whole image. Sometimes though, you would like to restrict enhancement to a region within the image. This is known as *local enhancement*. You can imagine enancing the contrast of a single region in an image. Or modify the entire image, piece by piece, with a separate transformation defined for each location. For instance, you could perform a histogram equalization on subsets of the image, instead of the entire image all at once."
      ]
    },
    {
      "cell_type": "code",
      "metadata": {
        "id": "9KrhCO8hb6fy"
      },
      "source": [
        ""
      ],
      "execution_count": null,
      "outputs": []
    },
    {
      "cell_type": "markdown",
      "metadata": {
        "id": "TXWRgtEjb6f1"
      },
      "source": [
        "Local enhancement can be much more powerful, where the *local* statistics of the histogram are used as the basis for making changes to an individual pixel. Local enhancement is ideal when part of the image is acceptable, but other parts may contain hidden features of interest."
      ]
    },
    {
      "cell_type": "markdown",
      "metadata": {
        "id": "4C9edenWb6f1"
      },
      "source": [
        "# Arithmetic and Logical Operations\n",
        "\n",
        "1. Image subtraction\n",
        "    * Can be used to remove background from image. An interesting application is *mask mode radiography* where a background Xray image is subtracted from images after injecting a contrast agent.\n",
        "2. Image averaging\n",
        "    * Suppose you have a series of images of the same object, but all have random noise. You can average all the images to get an \"average\" image that removes the noise.\n",
        "    \n",
        "    "
      ]
    },
    {
      "cell_type": "code",
      "metadata": {
        "id": "q4Ul6zhgb6f2"
      },
      "source": [
        ""
      ],
      "execution_count": null,
      "outputs": []
    },
    {
      "cell_type": "code",
      "metadata": {
        "id": "EkBpsTdpb6f3"
      },
      "source": [
        ""
      ],
      "execution_count": null,
      "outputs": []
    },
    {
      "cell_type": "code",
      "metadata": {
        "id": "ORfUNMOrb6f3"
      },
      "source": [
        ""
      ],
      "execution_count": null,
      "outputs": []
    },
    {
      "cell_type": "code",
      "metadata": {
        "id": "JF03nRwhb6f3"
      },
      "source": [
        ""
      ],
      "execution_count": null,
      "outputs": []
    },
    {
      "cell_type": "code",
      "metadata": {
        "id": "wIuUozRUb6f4"
      },
      "source": [
        ""
      ],
      "execution_count": null,
      "outputs": []
    },
    {
      "cell_type": "code",
      "metadata": {
        "id": "2kqBVrBQb6f4"
      },
      "source": [
        ""
      ],
      "execution_count": null,
      "outputs": []
    }
  ]
}